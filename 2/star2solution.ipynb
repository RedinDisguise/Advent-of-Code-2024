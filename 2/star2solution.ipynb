{
 "cells": [
  {
   "cell_type": "code",
   "execution_count": 78,
   "metadata": {},
   "outputs": [],
   "source": [
    "import re\n",
    "\n",
    "def isLevelSafe(report, isReactorTest):\n",
    "  isSafe=False\n",
    "  results = report\n",
    "\n",
    "  if (type(results[0]) != int):\n",
    "    results = re.findall(r'\\d+', report)\n",
    "    for i in range(len(results)):\n",
    "      results[i] = int(results[i])\n",
    "\n",
    "  # Test if list is not all ascending or descending\n",
    "  if ((sorted(results, reverse=True) != results) and (sorted(results) != results)):\n",
    "    reactorInput = results\n",
    "    \n",
    "    for i in reactorInput:\n",
    "      testInput = reactorInput.copy()\n",
    "      testInput.remove(i)\n",
    "      if ((sorted(testInput, reverse=True) == testInput) or (sorted(testInput) == testInput)):\n",
    "        isSafe = True\n",
    "        return(isSafe)\n",
    "    return(isSafe)\n",
    "\n",
    "  item=0\n",
    "\n",
    "  while item < (len(results) - 1):\n",
    "      ## Check for equal values\n",
    "      if results[item] == (results[item +1]):\n",
    "        # Test if removing this one value resolves the issue\n",
    "        if isReactorTest == False:\n",
    "          reactorInput = results\n",
    "          reactorInput.remove(results[item])\n",
    "          if isLevelSafe(reactorInput, True):\n",
    "            isSafe = True\n",
    "            break\n",
    "        break\n",
    "      ## Make sure changes are not more than 3\n",
    "      elif (abs(results[item] - (results[item +1]))) > 3:\n",
    "        # Test if removing this one value resolves the issue\n",
    "        if isReactorTest == False:\n",
    "          reactorInput = results\n",
    "          reactorInput.remove(results[item])\n",
    "          if isLevelSafe(reactorInput, True):\n",
    "            isSafe = True\n",
    "            break\n",
    "        break\n",
    "      ## Check all are ascending or descending\n",
    "\n",
    "      elif item == (len(results) - 2):\n",
    "        isSafe = True\n",
    "        break\n",
    "\n",
    "      item = item +1\n",
    "\n",
    "  return(isSafe)\n",
    "\n"
   ]
  },
  {
   "cell_type": "code",
   "execution_count": 79,
   "metadata": {},
   "outputs": [
    {
     "name": "stdout",
     "output_type": "stream",
     "text": [
      "556\n"
     ]
    }
   ],
   "source": [
    "input = open(\"input.txt\", \"r\")\n",
    "\n",
    "totalSafe = 0\n",
    "\n",
    "for x in input:\n",
    "    if isLevelSafe(x, False) == True:\n",
    "        totalSafe = totalSafe + 1\n",
    "\n",
    "\n",
    "print(totalSafe)"
   ]
  }
 ],
 "metadata": {
  "kernelspec": {
   "display_name": "Python 3",
   "language": "python",
   "name": "python3"
  },
  "language_info": {
   "codemirror_mode": {
    "name": "ipython",
    "version": 3
   },
   "file_extension": ".py",
   "mimetype": "text/x-python",
   "name": "python",
   "nbconvert_exporter": "python",
   "pygments_lexer": "ipython3",
   "version": "3.9.6"
  }
 },
 "nbformat": 4,
 "nbformat_minor": 2
}
